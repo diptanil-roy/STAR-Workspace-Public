{
 "cells": [
  {
   "cell_type": "code",
   "execution_count": 1,
   "id": "896b6012-9207-4ec6-bf25-c4b3c62a359e",
   "metadata": {},
   "outputs": [
    {
     "name": "stderr",
     "output_type": "stream",
     "text": [
      "/Volumes/WorkDrive/STAR-Workspace/D0Analysis/Analysis/AuAu/CombinedAnalysisSuite/MultiFold/multifold/lib/python3.11/site-packages/energyflow/archs/__init__.py:30: UserWarning: could not import some architectures - cannot import name '__version__' from 'tensorflow.keras' (/Volumes/WorkDrive/STAR-Workspace/D0Analysis/Analysis/AuAu/CombinedAnalysisSuite/MultiFold/multifold/lib/python3.11/site-packages/keras/api/_v2/keras/__init__.py)\n",
      "  warnings.warn('could not import some architectures - ' + str(e))\n"
     ]
    }
   ],
   "source": [
    "import numpy as np\n",
    "from matplotlib import pyplot as plt\n",
    "\n",
    "from keras.layers import Dense, Input\n",
    "from keras.models import Model\n",
    "\n",
    "import omnifold as of\n",
    "import os\n",
    "import tensorflow as tf\n",
    "import pandas as pd\n",
    "\n",
    "import energyflow as ef\n",
    "import energyflow.archs"
   ]
  },
  {
   "cell_type": "code",
   "execution_count": 4,
   "id": "4ed89a99-b2e9-4775-ace4-dc94100980e9",
   "metadata": {},
   "outputs": [],
   "source": [
    "N = 10**5"
   ]
  },
  {
   "cell_type": "code",
   "execution_count": 5,
   "id": "c2ddadba-fab9-48d9-a8af-84c0f8e284fe",
   "metadata": {},
   "outputs": [],
   "source": [
    "#Synthetic\n",
    "X1 = np.random.normal(0.2,0.8,N)  # Generator-level synthetic sample\n",
    "Y1 = np.array([(x + np.random.normal(0, 0.5)) for x in X1])  # Detector smearing for synthetic sample\n",
    "\n",
    "X2 = 1 - np.random.power(5, N)\n",
    "Y2 = np.array([(x + np.random.normal(0, 0.9)) for x in X2])  # Detector smearing for synthetic sample\n",
    "\n",
    "X3 = np.random.power(8, N)\n",
    "Y3 = np.array([(x + np.random.normal(0, 0.3)) for x in X2])  # Detector smearing for synthetic sample\n",
    "\n",
    "X = [X1, X2, X3]\n",
    "Y = [Y1, Y2, Y3]"
   ]
  },
  {
   "cell_type": "code",
   "execution_count": 6,
   "id": "32755b74-b643-4aef-8a0c-44d644af337d",
   "metadata": {},
   "outputs": [],
   "source": [
    "#Data\n",
    "A1 = np.random.normal(0,1,N)  # Generator-level synthetic sample\n",
    "B1 = np.array([(x + np.random.normal(0, 0.5)) for x in X1])  # Detector smearing for synthetic sample\n",
    "\n",
    "A2 = 1 - np.random.power(5.5, N)\n",
    "B2 = np.array([(x + np.random.normal(0, 0.9)) for x in X2])  # Detector smearing for synthetic sample\n",
    "\n",
    "A3 = np.random.power(7.5, N)\n",
    "B3 = np.array([(x + np.random.normal(0, 0.3)) for x in X2])  # Detector smearing for synthetic sample\n",
    "\n",
    "A = np.array([A1, A2, A3])\n",
    "B = np.array([B1, B2, B3])"
   ]
  },
  {
   "cell_type": "code",
   "execution_count": 7,
   "id": "b578746f-6934-4783-9515-bf95119a1ca8",
   "metadata": {},
   "outputs": [
    {
     "data": {
      "text/plain": [
       "dict_items([('P1', {'func': <function <listcomp>.<lambda> at 0x284edee80>}), ('P2', {'func': <function <listcomp>.<lambda> at 0x28549c400>}), ('P3', {'func': <function <listcomp>.<lambda> at 0x28549c220>})])"
      ]
     },
     "execution_count": 7,
     "metadata": {},
     "output_type": "execute_result"
    }
   ],
   "source": [
    "obs_multifold = ['P1', 'P2', 'P3']\n",
    "obs = {}\n",
    "[obs.setdefault(x, {}).update({'func': lambda dset: np.asarray(dset)}) for x in obs_multifold]\n",
    "obs.items()"
   ]
  },
  {
   "cell_type": "code",
   "execution_count": 8,
   "id": "8d5e52ac-3f3e-46df-8081-b6cc964855e1",
   "metadata": {},
   "outputs": [
    {
     "name": "stdout",
     "output_type": "stream",
     "text": [
      "Done with P1\n",
      "Done with P2\n",
      "Done with P3\n"
     ]
    }
   ],
   "source": [
    "i = 0\n",
    "for obkey, ob in obs.items():\n",
    "    ob['genobs'], ob['simobs'], ob['truobs'], ob['dataobs'] = ob['func'](X[i]), ob['func'](Y[i]), ob['func'](A[i]), ob['func'](B[i])\n",
    "    i+=1\n",
    "    print('Done with', obkey)"
   ]
  },
  {
   "cell_type": "code",
   "execution_count": 9,
   "id": "8a602fc5-26c9-488c-a5c4-cd06abced940",
   "metadata": {},
   "outputs": [],
   "source": [
    "# set up the array of data/simulation detector-level observables\n",
    "X_det = np.asarray([np.concatenate(\n",
    "    (obs[obkey]['dataobs'], obs[obkey]['simobs'])) for obkey in obs_multifold]).T\n",
    "Y_det = pd.get_dummies(np.concatenate((np.ones(len(obs['P1']['dataobs'])),\n",
    "                                                np.zeros(len(obs['P1']['simobs'])))), dtype=int).to_numpy()"
   ]
  },
  {
   "cell_type": "code",
   "execution_count": 10,
   "id": "eba053f4-77db-4955-9fec-5e4f2a356803",
   "metadata": {},
   "outputs": [],
   "source": [
    "# set up the array of generation particle-level observables\n",
    "X_gen = np.asarray([np.concatenate(\n",
    "    (obs[obkey]['genobs'], obs[obkey]['genobs'])) for obkey in obs_multifold]).T\n",
    "Y_gen = pd.get_dummies(np.concatenate((np.ones(len(obs['P1']['genobs'])),\n",
    "                                                np.zeros(len(obs['P1']['genobs'])))), dtype=int).to_numpy()"
   ]
  },
  {
   "cell_type": "code",
   "execution_count": 11,
   "id": "d8fbcdbe-b897-4712-8dbe-645e505f8886",
   "metadata": {},
   "outputs": [],
   "source": [
    "# standardize the inputs\n",
    "X_det = (X_det - np.mean(X_det, axis=0))/np.std(X_det, axis=0)\n",
    "X_gen = (X_gen - np.mean(X_gen, axis=0))/np.std(X_gen, axis=0)"
   ]
  },
  {
   "cell_type": "code",
   "execution_count": 12,
   "id": "2521f28a-203c-456b-980b-f55713162d5e",
   "metadata": {},
   "outputs": [],
   "source": [
    "# Specify the training parameters\n",
    "# model parameters for the Step 1 network\n",
    "model_layer_sizes = [100, 100]  # use this for the full network size\n",
    "# model_layer_sizes = [100, 100, 100]  # use this for the full network size\n",
    "det_args = {'input_dim': len(obs_multifold), 'dense_sizes': model_layer_sizes,\n",
    "            'patience': 10, 'filepath': 'Step1_{}', 'save_weights_only': False,\n",
    "            'modelcheck_opts': {'save_best_only': True, 'verbose': 1}}\n",
    "# model parameters for the Step 2 network\n",
    "mc_args = {'input_dim': len(obs_multifold), 'dense_sizes': model_layer_sizes,\n",
    "           'patience': 10, 'filepath': 'Step2_{}', 'save_weights_only': False,\n",
    "           'modelcheck_opts': {'save_best_only': True, 'verbose': 1}}\n",
    "# general training parameters\n",
    "fitargs = {'batch_size': 500, 'epochs': 2, 'verbose': 1}\n",
    "# reweight the sim and data to have the same total weight to begin with\n",
    "ndata, nsim = np.count_nonzero(Y_det[:,1]), np.count_nonzero(Y_det[:,0])\n",
    "wdata = np.ones(ndata)\n",
    "winit = ndata/nsim*np.ones(nsim)"
   ]
  },
  {
   "cell_type": "code",
   "execution_count": 13,
   "id": "1618aafa-dd63-4c86-ba42-c75ca5e025db",
   "metadata": {},
   "outputs": [
    {
     "ename": "AttributeError",
     "evalue": "module 'energyflow.archs' has no attribute 'DNN'",
     "output_type": "error",
     "traceback": [
      "\u001b[0;31m---------------------------------------------------------------------------\u001b[0m",
      "\u001b[0;31mAttributeError\u001b[0m                            Traceback (most recent call last)",
      "Cell \u001b[0;32mIn[13], line 3\u001b[0m\n\u001b[1;32m      1\u001b[0m \u001b[38;5;66;03m# apply the OmniFold procedure to get weights for the generation\u001b[39;00m\n\u001b[1;32m      2\u001b[0m multifold_ws \u001b[38;5;241m=\u001b[39m of\u001b[38;5;241m.\u001b[39momnifold(X_gen, Y_gen, X_det, Y_det, wdata, winit,\n\u001b[0;32m----> 3\u001b[0m                                 (\u001b[43mef\u001b[49m\u001b[38;5;241;43m.\u001b[39;49m\u001b[43marchs\u001b[49m\u001b[38;5;241;43m.\u001b[39;49m\u001b[43mDNN\u001b[49m, det_args), (ef\u001b[38;5;241m.\u001b[39marchs\u001b[38;5;241m.\u001b[39mDNN, mc_args),\n\u001b[1;32m      4\u001b[0m                                 fitargs, val\u001b[38;5;241m=\u001b[39m\u001b[38;5;241m0.2\u001b[39m, it\u001b[38;5;241m=\u001b[39mitnum, trw_ind\u001b[38;5;241m=\u001b[39m\u001b[38;5;241m-\u001b[39m\u001b[38;5;241m2\u001b[39m, weights_filename\u001b[38;5;241m=\u001b[39m\u001b[38;5;124m'\u001b[39m\u001b[38;5;124mTest\u001b[39m\u001b[38;5;124m'\u001b[39m)\n",
      "\u001b[0;31mAttributeError\u001b[0m: module 'energyflow.archs' has no attribute 'DNN'"
     ]
    }
   ],
   "source": [
    "# apply the OmniFold procedure to get weights for the generation\n",
    "multifold_ws = of.omnifold(X_gen, Y_gen, X_det, Y_det, wdata, winit,\n",
    "                                (ef.archs.DNN, det_args), (ef.archs.DNN, mc_args),\n",
    "                                fitargs, val=0.2, it=itnum, trw_ind=-2, weights_filename='Test')"
   ]
  },
  {
   "cell_type": "code",
   "execution_count": null,
   "id": "11a774dd-5ee3-42e3-a04e-f7a7a31d00d9",
   "metadata": {},
   "outputs": [],
   "source": []
  }
 ],
 "metadata": {
  "kernelspec": {
   "display_name": "Python 3 (ipykernel)",
   "language": "python",
   "name": "python3"
  },
  "language_info": {
   "codemirror_mode": {
    "name": "ipython",
    "version": 3
   },
   "file_extension": ".py",
   "mimetype": "text/x-python",
   "name": "python",
   "nbconvert_exporter": "python",
   "pygments_lexer": "ipython3",
   "version": "3.11.4"
  }
 },
 "nbformat": 4,
 "nbformat_minor": 5
}
