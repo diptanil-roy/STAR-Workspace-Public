{
 "cells": [
  {
   "cell_type": "code",
   "execution_count": 18,
   "metadata": {
    "id": "2j2_epugGatH"
   },
   "outputs": [],
   "source": [
    "import sys\n",
    "\n",
    "import numpy as np\n",
    "from matplotlib import pyplot as plt\n",
    "\n",
    "from keras.layers import Dense, Input\n",
    "from keras.models import Model\n",
    "\n",
    "import energyflow as ef\n",
    "import energyflow.archs\n",
    "\n",
    "import omnifold as of\n",
    "import ibu\n",
    "import os\n",
    "import tensorflow as tf\n",
    "import pandas as pd\n",
    "import modplot\n",
    "\n",
    "import uproot\n",
    "\n",
    "from sklearn.model_selection import train_test_split"
   ]
  },
  {
   "cell_type": "code",
   "execution_count": 19,
   "metadata": {},
   "outputs": [
    {
     "data": {
      "text/plain": [
       "<tensorflow.python.eager.context._EagerDeviceContext at 0x28f0b0600>"
      ]
     },
     "execution_count": 19,
     "metadata": {},
     "output_type": "execute_result"
    }
   ],
   "source": [
    "tf.device(\"/cpu:0\")"
   ]
  },
  {
   "cell_type": "code",
   "execution_count": 20,
   "metadata": {
    "id": "0BRckxdnJJax"
   },
   "outputs": [
    {
     "data": {
      "text/plain": [
       "dict_items([('JetPt', {'func': <function <listcomp>.<lambda> at 0x59c8416c0>}), ('Z', {'func': <function <listcomp>.<lambda> at 0x59c841260>}), ('DeltaR', {'func': <function <listcomp>.<lambda> at 0x59c8414e0>})])"
      ]
     },
     "execution_count": 20,
     "metadata": {},
     "output_type": "execute_result"
    }
   ],
   "source": [
    "obs_multifold = ['JetPt', 'Z', 'DeltaR']\n",
    "# obs_multifold = ['P1']\n",
    "obs = {}\n",
    "[obs.setdefault(x, {}).update({'func': lambda dset: dset.to_numpy()}) for x in obs_multifold]\n",
    "obs.items()"
   ]
  },
  {
   "cell_type": "code",
   "execution_count": 21,
   "metadata": {
    "id": "xaR3xmbrIJwG"
   },
   "outputs": [],
   "source": [
    "MuTree = uproot.open(\"MultiFoldInputFile.root:MuTreeForMultiFold\")"
   ]
  },
  {
   "cell_type": "code",
   "execution_count": 22,
   "metadata": {
    "id": "2_M0Y-_uVp9c"
   },
   "outputs": [
    {
     "data": {
      "text/plain": [
       "9916863"
      ]
     },
     "execution_count": 22,
     "metadata": {},
     "output_type": "execute_result"
    }
   ],
   "source": [
    "MuTree.num_entries"
   ]
  },
  {
   "cell_type": "code",
   "execution_count": 23,
   "metadata": {
    "id": "rhxONiAMXdQV"
   },
   "outputs": [],
   "source": [
    "MuTreeData = MuTree.arrays([\"MCJetPt\", \"MCZ\", \"MCDeltaR\", \"RecoJetPt\", \"RecoZ\", \"RecoDeltaR\"], library=\"pd\")"
   ]
  },
  {
   "cell_type": "code",
   "execution_count": 24,
   "metadata": {},
   "outputs": [],
   "source": [
    "MuTreeData.drop(MuTreeData.tail(9500000).index,\n",
    "        inplace = True)"
   ]
  },
  {
   "cell_type": "code",
   "execution_count": 25,
   "metadata": {
    "id": "45o-oJM0If1R"
   },
   "outputs": [],
   "source": [
    "Train, Test = train_test_split(MuTreeData, test_size=0.2)"
   ]
  },
  {
   "cell_type": "code",
   "execution_count": 26,
   "metadata": {
    "id": "uFRb2AELYV73"
   },
   "outputs": [
    {
     "data": {
      "text/plain": [
       "array([1.3552246, 1.4116211, 4.1035156, ..., 7.6445312, 3.7827148,\n",
       "       6.961914 ], dtype=float32)"
      ]
     },
     "execution_count": 26,
     "metadata": {},
     "output_type": "execute_result"
    }
   ],
   "source": [
    "Train['MC'+'JetPt'].to_numpy()"
   ]
  },
  {
   "cell_type": "code",
   "execution_count": 27,
   "metadata": {
    "id": "dtnxLr2zKFZM"
   },
   "outputs": [
    {
     "name": "stdout",
     "output_type": "stream",
     "text": [
      "Done with JetPt\n",
      "Done with Z\n",
      "Done with DeltaR\n"
     ]
    }
   ],
   "source": [
    "for i, (obkey, ob) in enumerate(obs.items()):\n",
    "    ob['genobs'], ob['simobs'] = ob['func'](Train['MC'+obkey]), ob['func'](Train['Reco'+obkey])\n",
    "    ob['truobs'], ob['dataobs'] = ob['func'](Test['MC'+obkey]), ob['func'](Test['Reco'+obkey])\n",
    "    print('Done with', obkey)"
   ]
  },
  {
   "cell_type": "code",
   "execution_count": 28,
   "metadata": {
    "id": "CzwkUhVjaXT8"
   },
   "outputs": [
    {
     "data": {
      "text/plain": [
       "array([0.00019148, 0.00032717, 0.08324414, ..., 0.16178203, 0.0076366 ,\n",
       "       0.01538287], dtype=float32)"
      ]
     },
     "execution_count": 28,
     "metadata": {},
     "output_type": "execute_result"
    }
   ],
   "source": [
    "ob['genobs']"
   ]
  },
  {
   "cell_type": "code",
   "execution_count": 29,
   "metadata": {
    "id": "M4xI4YyUKY-B"
   },
   "outputs": [],
   "source": [
    "# set up the array of data/simulation detector-level observables\n",
    "X_det = np.asarray([np.concatenate(\n",
    "    (obs[obkey]['dataobs'], obs[obkey]['simobs'])) for obkey in obs_multifold]).T\n",
    "Y_det = pd.get_dummies(np.concatenate((np.ones(len(obs['JetPt']['dataobs'])),\n",
    "                                                np.zeros(len(obs['JetPt']['simobs'])))), dtype=int).to_numpy()"
   ]
  },
  {
   "cell_type": "code",
   "execution_count": 30,
   "metadata": {
    "id": "1BDFAqi4TG2x"
   },
   "outputs": [],
   "source": [
    "# set up the array of generation particle-level observables\n",
    "X_gen = np.asarray([np.concatenate(\n",
    "    (obs[obkey]['genobs'], obs[obkey]['genobs'])) for obkey in obs_multifold]).T\n",
    "Y_gen = pd.get_dummies(np.concatenate((np.ones(len(obs['JetPt']['genobs'])),\n",
    "                                                np.zeros(len(obs['JetPt']['genobs'])))), dtype=int).to_numpy()"
   ]
  },
  {
   "cell_type": "code",
   "execution_count": 31,
   "metadata": {
    "id": "LQznaCN6TOr2"
   },
   "outputs": [],
   "source": [
    "# standardize the inputs\n",
    "X_det = (X_det - np.mean(X_det, axis=0))/np.std(X_det, axis=0)\n",
    "X_gen = (X_gen - np.mean(X_gen, axis=0))/np.std(X_gen, axis=0)"
   ]
  },
  {
   "cell_type": "code",
   "execution_count": 32,
   "metadata": {
    "id": "RziqJXEoTWIB"
   },
   "outputs": [],
   "source": [
    "# Specify the training parameters\n",
    "# model parameters for the Step 1 network\n",
    "model_layer_sizes = [100, 100]  # use this for the full network size\n",
    "# model_layer_sizes = [100, 100, 100]  # use this for the full network size\n",
    "det_args = {'input_dim': len(obs_multifold), 'dense_sizes': model_layer_sizes,\n",
    "            'patience': 10, 'filepath': 'Step1_{}', 'save_weights_only': False,\n",
    "            'modelcheck_opts': {'save_best_only': True, 'verbose': 1}}\n",
    "# model parameters for the Step 2 network\n",
    "mc_args = {'input_dim': len(obs_multifold), 'dense_sizes': model_layer_sizes,\n",
    "           'patience': 10, 'filepath': 'Step2_{}', 'save_weights_only': False,\n",
    "           'modelcheck_opts': {'save_best_only': True, 'verbose': 1}}\n",
    "# general training parameters\n",
    "fitargs = {'batch_size': 2000, 'epochs': 2, 'verbose': 1}\n",
    "# reweight the sim and data to have the same total weight to begin with\n",
    "ndata, nsim = np.count_nonzero(Y_det[:,1]), np.count_nonzero(Y_det[:,0])\n",
    "wdata = np.ones(ndata)\n",
    "winit = ndata/nsim*np.ones(nsim)"
   ]
  },
  {
   "cell_type": "code",
   "execution_count": null,
   "metadata": {
    "id": "BwyzHMd0TcSo"
   },
   "outputs": [
    {
     "name": "stdout",
     "output_type": "stream",
     "text": [
      "Model: \"model_2\"\n",
      "_________________________________________________________________\n",
      " Layer (type)                Output Shape              Param #   \n",
      "=================================================================\n",
      " input (InputLayer)          [(None, 3)]               0         \n",
      "                                                                 \n",
      " dense_0 (Dense)             (None, 100)               400       \n",
      "                                                                 \n",
      " activation_6 (Activation)   (None, 100)               0         \n",
      "                                                                 \n",
      " dense_1 (Dense)             (None, 100)               10100     \n",
      "                                                                 \n",
      " activation_7 (Activation)   (None, 100)               0         \n",
      "                                                                 \n",
      " output (Dense)              (None, 2)                 202       \n",
      "                                                                 \n",
      " activation_8 (Activation)   (None, 2)                 0         \n",
      "                                                                 \n",
      "=================================================================\n",
      "Total params: 10,702\n",
      "Trainable params: 10,702\n",
      "Non-trainable params: 0\n",
      "_________________________________________________________________\n",
      "Model: \"model_3\"\n",
      "_________________________________________________________________\n",
      " Layer (type)                Output Shape              Param #   \n",
      "=================================================================\n",
      " input (InputLayer)          [(None, 3)]               0         \n",
      "                                                                 \n",
      " dense_0 (Dense)             (None, 100)               400       \n",
      "                                                                 \n",
      " activation_9 (Activation)   (None, 100)               0         \n",
      "                                                                 \n",
      " dense_1 (Dense)             (None, 100)               10100     \n",
      "                                                                 \n",
      " activation_10 (Activation)  (None, 100)               0         \n",
      "                                                                 \n",
      " output (Dense)              (None, 2)                 202       \n",
      "                                                                 \n",
      " activation_11 (Activation)  (None, 2)                 0         \n",
      "                                                                 \n",
      "=================================================================\n",
      "Total params: 10,702\n",
      "Trainable params: 10,702\n",
      "Non-trainable params: 0\n",
      "_________________________________________________________________\n"
     ]
    }
   ],
   "source": [
    "# apply the OmniFold procedure to get weights for the generation\n",
    "multifold_ws = of.omnifold(X_gen, Y_gen, X_det, Y_det, wdata, winit,\n",
    "                                (ef.archs.DNN, det_args), (ef.archs.DNN, mc_args),\n",
    "                                fitargs, val=0.2, it=3, trw_ind=-2, weights_filename='Test')"
   ]
  },
  {
   "cell_type": "code",
   "execution_count": null,
   "metadata": {
    "id": "gR3XFMv2TeO3"
   },
   "outputs": [],
   "source": [
    "# additional histogram and plot style information\n",
    "hist_style = {'histtype': 'step', 'lw': 1, 'zorder': 2}\n",
    "gen_style = {'linestyle': '--', 'color': 'blue', 'lw': 1.15, 'label': 'Gen.'}\n",
    "truth_style = {'step': 'mid', 'edgecolor': 'green', 'facecolor': (0.75, 0.875, 0.75),\n",
    "               'lw': 1.25, 'zorder': 0, 'label': '``Truth\\\"'}\n",
    "ibu_style = {'ls': '-', 'marker': 'o', 'ms': 2.5, 'color': 'gray', 'zorder': 1}\n",
    "omnifold_style = {'histtype': 'step', 'lw': 2, 'zorder': 2}"
   ]
  },
  {
   "cell_type": "code",
   "execution_count": null,
   "metadata": {
    "id": "pq5G_IrTdDNL"
   },
   "outputs": [],
   "source": [
    "plt.rcParams['figure.figsize'] = (12,4)\n",
    "plt.rcParams['figure.dpi'] = 120\n",
    "plt.rcParams['font.family'] = 'serif'"
   ]
  },
  {
   "cell_type": "code",
   "execution_count": null,
   "metadata": {
    "id": "pyTUIdgOdErE"
   },
   "outputs": [],
   "source": [
    "fig, axs = plt.subplots(1,3)\n",
    "bindef = [np.linspace(-3,3,25), np.linspace(-3,3,75), np.linspace(-3,3,75)]\n",
    "mcbindef = [np.linspace(-3,3,25), np.linspace(0,1,25), np.linspace(0,1,25)]\n",
    "\n",
    "for i,(obkey,ob) in enumerate(obs.items()):\n",
    "    _,_,_=axs[i].hist(ob['dataobs'], bins=bindef[i], color='red', histtype='step', label='``Data\\\"')\n",
    "    axs[i].hist(ob['simobs'], bins=bindef[i], color='orange', label='Sim.', histtype='step')\n",
    "    _,_,_=axs[i].hist(ob['genobs'], bins=bindef[i], color='green', label='Gen.', histtype='step', ls=':', lw=2)\n",
    "    _,_,_=axs[i].hist(ob['truobs'], bins=bindef[i], color='blue', label='True', alpha=0.5)\n",
    "    _,_,_=axs[i].hist(ob['genobs'], bins=bindef[i], weights=multifold_ws[6], color='black', label='Multifolded', **omnifold_style)\n",
    "    axs[i].set_yscale(\"log\")\n",
    "    axs[i].legend(frameon=False)\n"
   ]
  },
  {
   "cell_type": "code",
   "execution_count": null,
   "metadata": {
    "id": "3Q0TLuLXdGvz"
   },
   "outputs": [],
   "source": []
  }
 ],
 "metadata": {
  "colab": {
   "private_outputs": true,
   "provenance": []
  },
  "kernelspec": {
   "display_name": "Python 3 (ipykernel)",
   "language": "python",
   "name": "python3"
  },
  "language_info": {
   "codemirror_mode": {
    "name": "ipython",
    "version": 3
   },
   "file_extension": ".py",
   "mimetype": "text/x-python",
   "name": "python",
   "nbconvert_exporter": "python",
   "pygments_lexer": "ipython3",
   "version": "3.11.4"
  }
 },
 "nbformat": 4,
 "nbformat_minor": 4
}
